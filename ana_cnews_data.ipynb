{
 "cells": [
  {
   "cell_type": "code",
   "execution_count": 1,
   "metadata": {},
   "outputs": [],
   "source": [
    "path_data=\"E:/data/word_nlp/train_set.csv/train_set.csv\""
   ]
  },
  {
   "cell_type": "code",
   "execution_count": 2,
   "metadata": {},
   "outputs": [],
   "source": [
    "import pandas as pd"
   ]
  },
  {
   "cell_type": "markdown",
   "metadata": {},
   "source": [
    "#### 数据读入"
   ]
  },
  {
   "cell_type": "code",
   "execution_count": 3,
   "metadata": {},
   "outputs": [],
   "source": [
    "df=pd.read_csv(path_data)"
   ]
  },
  {
   "cell_type": "code",
   "execution_count": 11,
   "metadata": {},
   "outputs": [],
   "source": [
    "labels=[]\n",
    "contents=[]\n",
    "sentence_len=[]\n",
    "all_words=[]\n",
    "for ele in df[\"label\\ttext\"].str.split(\"\\t\"):\n",
    "    labels.append(ele[0])\n",
    "    contents.append(ele[1])\n",
    "    all_words.extend(ele[1].split(\" \"))\n",
    "    all_words=list(set(all_words))\n",
    "    sentence_len.append(len(ele[1].split(\" \")))"
   ]
  },
  {
   "cell_type": "code",
   "execution_count": 12,
   "metadata": {},
   "outputs": [],
   "source": [
    "df_news=pd.DataFrame(columns=[\"labels\",\"sentences\",\"sen_len\"])\n",
    "df_news.labels=labels\n",
    "df_news.sentences=contents\n",
    "df_news.sen_len=sentence_len"
   ]
  },
  {
   "cell_type": "markdown",
   "metadata": {},
   "source": [
    "#### 类别情况分析\n",
    "最多的类别为第0类，样本数38918，最少的类别为第13类，样本数908。为不均衡分类，需要采取上采样，下采样等方式，或者多模型组合"
   ]
  },
  {
   "cell_type": "code",
   "execution_count": 13,
   "metadata": {},
   "outputs": [
    {
     "name": "stdout",
     "output_type": "stream",
     "text": [
      "0 38918\n",
      "1 36945\n",
      "10 4920\n",
      "11 3131\n",
      "12 1821\n",
      "13 908\n",
      "2 31425\n",
      "3 22133\n",
      "4 15016\n",
      "5 12232\n",
      "6 9985\n",
      "7 8841\n",
      "8 7847\n",
      "9 5878\n"
     ]
    }
   ],
   "source": [
    "for one in list(df_news.labels.groupby(labels)):\n",
    "    print(one[0],len(one[1]))"
   ]
  },
  {
   "cell_type": "code",
   "execution_count": 28,
   "metadata": {},
   "outputs": [],
   "source": [
    "#df_news"
   ]
  },
  {
   "cell_type": "code",
   "execution_count": 15,
   "metadata": {},
   "outputs": [],
   "source": [
    "import seaborn as sns\n",
    "import matplotlib.pyplot as plt\n",
    "import numpy as np\n"
   ]
  },
  {
   "cell_type": "markdown",
   "metadata": {},
   "source": [
    "#### 句长分析\n",
    "可以看到样本主要集中在句长为2000以内"
   ]
  },
  {
   "cell_type": "code",
   "execution_count": 16,
   "metadata": {},
   "outputs": [
    {
     "name": "stderr",
     "output_type": "stream",
     "text": [
      "C:\\Love\\Anaconda3\\lib\\site-packages\\matplotlib\\axes\\_axes.py:6521: MatplotlibDeprecationWarning: \n",
      "The 'normed' kwarg was deprecated in Matplotlib 2.1 and will be removed in 3.1. Use 'density' instead.\n",
      "  alternative=\"'density'\", removal=\"3.1\")\n"
     ]
    },
    {
     "data": {
      "text/plain": [
       "<matplotlib.axes._subplots.AxesSubplot at 0x1be2e4ceac8>"
      ]
     },
     "execution_count": 16,
     "metadata": {},
     "output_type": "execute_result"
    },
    {
     "data": {
      "image/png": "[encoded data removed]",
      "text/plain": [
       "<Figure size 432x288 with 1 Axes>"
      ]
     },
     "metadata": {},
     "output_type": "display_data"
    }
   ],
   "source": [
    "\n",
    "sns.distplot(df_news.sen_len)"
   ]
  },
  {
   "cell_type": "code",
   "execution_count": 25,
   "metadata": {},
   "outputs": [
    {
     "data": {
      "text/html": [
       "<div>\n",
       "<style scoped>\n",
       "    .dataframe tbody tr th:only-of-type {\n",
       "        vertical-align: middle;\n",
       "    }\n",
       "\n",
       "    .dataframe tbody tr th {\n",
       "        vertical-align: top;\n",
       "    }\n",
       "\n",
       "    .dataframe thead th {\n",
       "        text-align: right;\n",
       "    }\n",
       "</style>\n",
       "<table border=\"1\" class=\"dataframe\">\n",
       "  <thead>\n",
       "    <tr style=\"text-align: right;\">\n",
       "      <th></th>\n",
       "      <th>labels</th>\n",
       "      <th>sentences</th>\n",
       "      <th>sen_len</th>\n",
       "    </tr>\n",
       "  </thead>\n",
       "  <tbody>\n",
       "    <tr>\n",
       "      <th>71</th>\n",
       "      <td>6</td>\n",
       "      <td>7058 6045 6656 2477 7539 2289 6242 2106 4454 8...</td>\n",
       "      <td>7125</td>\n",
       "    </tr>\n",
       "    <tr>\n",
       "      <th>145</th>\n",
       "      <td>1</td>\n",
       "      <td>5602 2073 4464 6065 4853 1141 5036 2923 913 52...</td>\n",
       "      <td>5291</td>\n",
       "    </tr>\n",
       "    <tr>\n",
       "      <th>167</th>\n",
       "      <td>8</td>\n",
       "      <td>5810 790 4123 4053 2465 2970 5305 913 4326 185...</td>\n",
       "      <td>6301</td>\n",
       "    </tr>\n",
       "    <tr>\n",
       "      <th>173</th>\n",
       "      <td>3</td>\n",
       "      <td>1460 1610 4350 517 6663 4321 1903 910 2399 206...</td>\n",
       "      <td>5433</td>\n",
       "    </tr>\n",
       "    <tr>\n",
       "      <th>322</th>\n",
       "      <td>1</td>\n",
       "      <td>2252 5938 7023 3648 5370 3067 4553 2549 3344 7...</td>\n",
       "      <td>6527</td>\n",
       "    </tr>\n",
       "    <tr>\n",
       "      <th>...</th>\n",
       "      <td>...</td>\n",
       "      <td>...</td>\n",
       "      <td>...</td>\n",
       "    </tr>\n",
       "    <tr>\n",
       "      <th>198920</th>\n",
       "      <td>7</td>\n",
       "      <td>4562 3893 3272 5519 885 948 1722 5920 7495 243...</td>\n",
       "      <td>10620</td>\n",
       "    </tr>\n",
       "    <tr>\n",
       "      <th>199046</th>\n",
       "      <td>1</td>\n",
       "      <td>6065 2073 3659 5602 4853 2716 1970 6357 2614 2...</td>\n",
       "      <td>9927</td>\n",
       "    </tr>\n",
       "    <tr>\n",
       "      <th>199582</th>\n",
       "      <td>2</td>\n",
       "      <td>5284 5510 2109 1335 6666 2983 101 3554 383 404...</td>\n",
       "      <td>5152</td>\n",
       "    </tr>\n",
       "    <tr>\n",
       "      <th>199638</th>\n",
       "      <td>13</td>\n",
       "      <td>7251 5297 531 1102 648 1999 6040 5411 5778 327...</td>\n",
       "      <td>6399</td>\n",
       "    </tr>\n",
       "    <tr>\n",
       "      <th>199706</th>\n",
       "      <td>1</td>\n",
       "      <td>3700 2073 4464 4464 4853 299 6357 151 2859 584...</td>\n",
       "      <td>26201</td>\n",
       "    </tr>\n",
       "  </tbody>\n",
       "</table>\n",
       "<p>1117 rows × 3 columns</p>\n",
       "</div>"
      ],
      "text/plain": [
       "       labels                                          sentences  sen_len\n",
       "71          6  7058 6045 6656 2477 7539 2289 6242 2106 4454 8...     7125\n",
       "145         1  5602 2073 4464 6065 4853 1141 5036 2923 913 52...     5291\n",
       "167         8  5810 790 4123 4053 2465 2970 5305 913 4326 185...     6301\n",
       "173         3  1460 1610 4350 517 6663 4321 1903 910 2399 206...     5433\n",
       "322         1  2252 5938 7023 3648 5370 3067 4553 2549 3344 7...     6527\n",
       "...       ...                                                ...      ...\n",
       "198920      7  4562 3893 3272 5519 885 948 1722 5920 7495 243...    10620\n",
       "199046      1  6065 2073 3659 5602 4853 2716 1970 6357 2614 2...     9927\n",
       "199582      2  5284 5510 2109 1335 6666 2983 101 3554 383 404...     5152\n",
       "199638     13  7251 5297 531 1102 648 1999 6040 5411 5778 327...     6399\n",
       "199706      1  3700 2073 4464 4464 4853 299 6357 151 2859 584...    26201\n",
       "\n",
       "[1117 rows x 3 columns]"
      ]
     },
     "execution_count": 25,
     "metadata": {},
     "output_type": "execute_result"
    }
   ],
   "source": [
    "df_news[df_news.sen_len>5000]"
   ]
  },
  {
   "cell_type": "code",
   "execution_count": 23,
   "metadata": {},
   "outputs": [
    {
     "data": {
      "text/plain": [
       "0.920165"
      ]
     },
     "execution_count": 23,
     "metadata": {},
     "output_type": "execute_result"
    }
   ],
   "source": [
    "len(df_news[df_news.sen_len<2000])/200000"
   ]
  },
  {
   "cell_type": "markdown",
   "metadata": {},
   "source": [
    "#### 词汇量分析\n",
    "这里单词个数为6869，在后期计算时可能对其坐min_df,max_df操作"
   ]
  },
  {
   "cell_type": "code",
   "execution_count": 26,
   "metadata": {},
   "outputs": [
    {
     "data": {
      "text/plain": [
       "6869"
      ]
     },
     "execution_count": 26,
     "metadata": {},
     "output_type": "execute_result"
    }
   ],
   "source": [
    "## 这里在计算之初，必须每次都set，不然list太大，跑挂电脑两次...i7,8G\n",
    "len(all_words)"
   ]
  },
  {
   "cell_type": "markdown",
   "metadata": {},
   "source": [
    "### 初步总结\n",
    "由于是长文本分类，故放弃rnn系列的网络。打算第一步先尝试fasttext"
   ]
  },
  {
   "cell_type": "code",
   "execution_count": null,
   "metadata": {},
   "outputs": [],
   "source": []
  }
 ],
 "metadata": {
  "kernelspec": {
   "display_name": "Python 3",
   "language": "python",
   "name": "python3"
  },
  "language_info": {
   "codemirror_mode": {
    "name": "ipython",
    "version": 3
   },
   "file_extension": ".py",
   "mimetype": "text/x-python",
   "name": "python",
   "nbconvert_exporter": "python",
   "pygments_lexer": "ipython3",
   "version": "3.6.4"
  }
 },
 "nbformat": 4,
 "nbformat_minor": 2
}
