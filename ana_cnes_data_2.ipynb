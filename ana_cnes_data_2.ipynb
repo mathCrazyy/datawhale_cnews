{
 "cells": [
  {
   "cell_type": "markdown",
   "metadata": {},
   "source": [
    "### 库导入"
   ]
  },
  {
   "cell_type": "code",
   "execution_count": 1,
   "metadata": {},
   "outputs": [],
   "source": [
    "import pandas as pd\n",
    "import matplotlib.pyplot as plt"
   ]
  },
  {
   "cell_type": "markdown",
   "metadata": {},
   "source": [
    "### 数据读取\n",
    "刚开始数据分析时，读入部分数据即可"
   ]
  },
  {
   "cell_type": "code",
   "execution_count": 2,
   "metadata": {},
   "outputs": [],
   "source": [
    "path_data=\"E:/data/word_nlp/train_set.csv/train_set.csv\""
   ]
  },
  {
   "cell_type": "code",
   "execution_count": 63,
   "metadata": {},
   "outputs": [],
   "source": [
    "#train_df=pd.read_csv(path_data,sep=\"\\t\",nrows=100000)\n",
    "train_df=pd.read_csv(path_data,sep=\"\\t\",nrows=100000)"
   ]
  },
  {
   "cell_type": "code",
   "execution_count": 64,
   "metadata": {},
   "outputs": [
    {
     "data": {
      "text/html": [
       "<div>\n",
       "<style scoped>\n",
       "    .dataframe tbody tr th:only-of-type {\n",
       "        vertical-align: middle;\n",
       "    }\n",
       "\n",
       "    .dataframe tbody tr th {\n",
       "        vertical-align: top;\n",
       "    }\n",
       "\n",
       "    .dataframe thead th {\n",
       "        text-align: right;\n",
       "    }\n",
       "</style>\n",
       "<table border=\"1\" class=\"dataframe\">\n",
       "  <thead>\n",
       "    <tr style=\"text-align: right;\">\n",
       "      <th></th>\n",
       "      <th>label</th>\n",
       "      <th>text</th>\n",
       "    </tr>\n",
       "  </thead>\n",
       "  <tbody>\n",
       "    <tr>\n",
       "      <th>0</th>\n",
       "      <td>2</td>\n",
       "      <td>2967 6758 339 2021 1854 3731 4109 3792 4149 15...</td>\n",
       "    </tr>\n",
       "    <tr>\n",
       "      <th>1</th>\n",
       "      <td>11</td>\n",
       "      <td>4464 486 6352 5619 2465 4802 1452 3137 5778 54...</td>\n",
       "    </tr>\n",
       "    <tr>\n",
       "      <th>2</th>\n",
       "      <td>3</td>\n",
       "      <td>7346 4068 5074 3747 5681 6093 1777 2226 7354 6...</td>\n",
       "    </tr>\n",
       "    <tr>\n",
       "      <th>3</th>\n",
       "      <td>2</td>\n",
       "      <td>7159 948 4866 2109 5520 2490 211 3956 5520 549...</td>\n",
       "    </tr>\n",
       "    <tr>\n",
       "      <th>4</th>\n",
       "      <td>3</td>\n",
       "      <td>3646 3055 3055 2490 4659 6065 3370 5814 2465 5...</td>\n",
       "    </tr>\n",
       "    <tr>\n",
       "      <th>...</th>\n",
       "      <td>...</td>\n",
       "      <td>...</td>\n",
       "    </tr>\n",
       "    <tr>\n",
       "      <th>99995</th>\n",
       "      <td>3</td>\n",
       "      <td>4180 6289 6469 6122 5484 6122 2434 3017 3070 8...</td>\n",
       "    </tr>\n",
       "    <tr>\n",
       "      <th>99996</th>\n",
       "      <td>0</td>\n",
       "      <td>2289 307 1407 5310 4409 6286 2130 5537 2695 54...</td>\n",
       "    </tr>\n",
       "    <tr>\n",
       "      <th>99997</th>\n",
       "      <td>8</td>\n",
       "      <td>657 3742 307 4480 669 5393 6656 2465 4063 6248...</td>\n",
       "    </tr>\n",
       "    <tr>\n",
       "      <th>99998</th>\n",
       "      <td>4</td>\n",
       "      <td>1518 2935 4936 2400 4411 4462 4381 4490 7160 7...</td>\n",
       "    </tr>\n",
       "    <tr>\n",
       "      <th>99999</th>\n",
       "      <td>1</td>\n",
       "      <td>1970 5036 3397 4148 1699 5889 6986 619 7154 11...</td>\n",
       "    </tr>\n",
       "  </tbody>\n",
       "</table>\n",
       "<p>100000 rows × 2 columns</p>\n",
       "</div>"
      ],
      "text/plain": [
       "       label                                               text\n",
       "0          2  2967 6758 339 2021 1854 3731 4109 3792 4149 15...\n",
       "1         11  4464 486 6352 5619 2465 4802 1452 3137 5778 54...\n",
       "2          3  7346 4068 5074 3747 5681 6093 1777 2226 7354 6...\n",
       "3          2  7159 948 4866 2109 5520 2490 211 3956 5520 549...\n",
       "4          3  3646 3055 3055 2490 4659 6065 3370 5814 2465 5...\n",
       "...      ...                                                ...\n",
       "99995      3  4180 6289 6469 6122 5484 6122 2434 3017 3070 8...\n",
       "99996      0  2289 307 1407 5310 4409 6286 2130 5537 2695 54...\n",
       "99997      8  657 3742 307 4480 669 5393 6656 2465 4063 6248...\n",
       "99998      4  1518 2935 4936 2400 4411 4462 4381 4490 7160 7...\n",
       "99999      1  1970 5036 3397 4148 1699 5889 6986 619 7154 11...\n",
       "\n",
       "[100000 rows x 2 columns]"
      ]
     },
     "execution_count": 64,
     "metadata": {},
     "output_type": "execute_result"
    }
   ],
   "source": [
    "train_df"
   ]
  },
  {
   "cell_type": "code",
   "execution_count": 65,
   "metadata": {},
   "outputs": [
    {
     "data": {
      "text/html": [
       "<div>\n",
       "<style scoped>\n",
       "    .dataframe tbody tr th:only-of-type {\n",
       "        vertical-align: middle;\n",
       "    }\n",
       "\n",
       "    .dataframe tbody tr th {\n",
       "        vertical-align: top;\n",
       "    }\n",
       "\n",
       "    .dataframe thead th {\n",
       "        text-align: right;\n",
       "    }\n",
       "</style>\n",
       "<table border=\"1\" class=\"dataframe\">\n",
       "  <thead>\n",
       "    <tr style=\"text-align: right;\">\n",
       "      <th></th>\n",
       "      <th>label</th>\n",
       "      <th>text_len</th>\n",
       "    </tr>\n",
       "  </thead>\n",
       "  <tbody>\n",
       "    <tr>\n",
       "      <th>count</th>\n",
       "      <td>100000.000000</td>\n",
       "      <td>100000.000000</td>\n",
       "    </tr>\n",
       "    <tr>\n",
       "      <th>mean</th>\n",
       "      <td>3.202170</td>\n",
       "      <td>907.053450</td>\n",
       "    </tr>\n",
       "    <tr>\n",
       "      <th>std</th>\n",
       "      <td>3.083318</td>\n",
       "      <td>985.782311</td>\n",
       "    </tr>\n",
       "    <tr>\n",
       "      <th>min</th>\n",
       "      <td>0.000000</td>\n",
       "      <td>2.000000</td>\n",
       "    </tr>\n",
       "    <tr>\n",
       "      <th>25%</th>\n",
       "      <td>1.000000</td>\n",
       "      <td>373.000000</td>\n",
       "    </tr>\n",
       "    <tr>\n",
       "      <th>50%</th>\n",
       "      <td>2.000000</td>\n",
       "      <td>672.000000</td>\n",
       "    </tr>\n",
       "    <tr>\n",
       "      <th>75%</th>\n",
       "      <td>5.000000</td>\n",
       "      <td>1129.000000</td>\n",
       "    </tr>\n",
       "    <tr>\n",
       "      <th>max</th>\n",
       "      <td>13.000000</td>\n",
       "      <td>53527.000000</td>\n",
       "    </tr>\n",
       "  </tbody>\n",
       "</table>\n",
       "</div>"
      ],
      "text/plain": [
       "               label       text_len\n",
       "count  100000.000000  100000.000000\n",
       "mean        3.202170     907.053450\n",
       "std         3.083318     985.782311\n",
       "min         0.000000       2.000000\n",
       "25%         1.000000     373.000000\n",
       "50%         2.000000     672.000000\n",
       "75%         5.000000    1129.000000\n",
       "max        13.000000   53527.000000"
      ]
     },
     "execution_count": 65,
     "metadata": {},
     "output_type": "execute_result"
    }
   ],
   "source": [
    "train_df[\"text_len\"]=train_df[\"text\"].apply(lambda x:len(x.split(\" \")))\n",
    "train_df.describe()"
   ]
  },
  {
   "cell_type": "code",
   "execution_count": 66,
   "metadata": {},
   "outputs": [
    {
     "data": {
      "text/plain": [
       "0        1057\n",
       "1         486\n",
       "2         764\n",
       "3        1570\n",
       "4         307\n",
       "         ... \n",
       "99995    1071\n",
       "99996     784\n",
       "99997    1197\n",
       "99998    3039\n",
       "99999    1065\n",
       "Name: text_len, Length: 100000, dtype: int64"
      ]
     },
     "execution_count": 66,
     "metadata": {},
     "output_type": "execute_result"
    }
   ],
   "source": [
    "train_df[\"text_len\"]"
   ]
  },
  {
   "cell_type": "code",
   "execution_count": 67,
   "metadata": {},
   "outputs": [
    {
     "data": {
      "text/plain": [
       "Text(0.5, 1.0, 'histogram of char count')"
      ]
     },
     "execution_count": 67,
     "metadata": {},
     "output_type": "execute_result"
    },
    {
     "data": {
      "image/png": "[encoded data removed]",
      "text/plain": [
       "<Figure size 432x288 with 1 Axes>"
      ]
     },
     "metadata": {},
     "output_type": "display_data"
    }
   ],
   "source": [
    "## bins一共有几条线状图\n",
    "_=plt.hist(train_df[\"text_len\"],bins=200)\n",
    "plt.xlabel(\"text char count\")\n",
    "plt.title(\"histogram of char count\")"
   ]
  },
  {
   "cell_type": "markdown",
   "metadata": {},
   "source": [
    "### 新闻类别分布"
   ]
  },
  {
   "cell_type": "code",
   "execution_count": 68,
   "metadata": {},
   "outputs": [
    {
     "data": {
      "text/plain": [
       "Text(0.5, 0, 'category')"
      ]
     },
     "execution_count": 68,
     "metadata": {},
     "output_type": "execute_result"
    },
    {
     "data": {
      "image/png": "[encoded data removed]",
      "text/plain": [
       "<Figure size 432x288 with 1 Axes>"
      ]
     },
     "metadata": {},
     "output_type": "display_data"
    }
   ],
   "source": [
    "train_df[\"label\"].value_counts().plot(kind=\"bar\")\n",
    "plt.title(\"news class count\")\n",
    "plt.xlabel(\"category\")"
   ]
  },
  {
   "cell_type": "markdown",
   "metadata": {},
   "source": [
    "### 字符分布统计"
   ]
  },
  {
   "cell_type": "code",
   "execution_count": 37,
   "metadata": {},
   "outputs": [],
   "source": [
    "### 就这样子计算会导致list过大，导致卡死电脑..\n",
    "\n",
    "from collections import Counter\n",
    "all_lines=\" \".join(list(train_df[\"text\"]))\n",
    "word_count=Counter(all_lines.split(\" \"))\n",
    "word_count=sorted(word_count.items(),key=lambda d:d[1],reverse=True)"
   ]
  },
  {
   "cell_type": "code",
   "execution_count": 69,
   "metadata": {},
   "outputs": [],
   "source": [
    "from collections import Counter"
   ]
  },
  {
   "cell_type": "code",
   "execution_count": 70,
   "metadata": {},
   "outputs": [],
   "source": [
    "len(train_df)\n",
    "chunk_size=50000## 一个批多少个样本\n",
    "num=int(len(train_df)/chunk_size)\n",
    "counter_all=Counter()\n",
    "for i in range(num):\n",
    "    #print(len(train_df[i:i*chunk_size]))\n",
    "    all_lines=\" \".join(list(train_df[i:i*chunk_size][\"text\"]))\n",
    "    counter=Counter(all_lines.split(\" \"))\n",
    "    #print(counter)\n",
    "    counter_all+=counter\n",
    "#counter_all\n",
    "word_count=sorted(counter_all.items(),key=lambda d:d[1],reverse=True)"
   ]
  },
  {
   "cell_type": "markdown",
   "metadata": {},
   "source": [
    "出现次数最多的字符可能是标点符号"
   ]
  },
  {
   "cell_type": "code",
   "execution_count": 72,
   "metadata": {},
   "outputs": [
    {
     "data": {
      "text/plain": [
       "[('3750', 1863731),\n",
       " ('648', 1225624),\n",
       " ('900', 810223),\n",
       " ('3370', 500505),\n",
       " ('6122', 397222),\n",
       " ('4464', 384635)]"
      ]
     },
     "execution_count": 72,
     "metadata": {},
     "output_type": "execute_result"
    }
   ],
   "source": [
    "type(word_count)\n",
    "word_count[0:6]"
   ]
  },
  {
   "cell_type": "markdown",
   "metadata": {},
   "source": [
    "这里我们想找到，文本中是否存在着标点符号。对每句话做字符去重，可以最大限度地去除常用字带来的影响。"
   ]
  },
  {
   "cell_type": "code",
   "execution_count": 11,
   "metadata": {},
   "outputs": [],
   "source": [
    "train_df[\"text_unique\"]=train_df[\"text\"].apply(lambda x:\" \".join(list(set(x.split(\" \")))))\n",
    "all_lines=\" \".join(list(train_df[\"text_unique\"]))\n",
    "word_count=Counter(all_lines.split(\" \"))\n",
    "word_count=sorted(word_count.items(),key=lambda d:int(d[1]),reverse=True)\n"
   ]
  },
  {
   "cell_type": "markdown",
   "metadata": {},
   "source": [
    "分块计算"
   ]
  },
  {
   "cell_type": "code",
   "execution_count": 73,
   "metadata": {},
   "outputs": [],
   "source": [
    "len(train_df)\n",
    "chunk_size=50000## 一个批多少个样本\n",
    "num=int(len(train_df)/chunk_size)\n",
    "\n",
    "train_df[\"text_unique\"]=train_df[\"text\"].apply(lambda x:\" \".join(list(set(x.split(\" \")))))\n",
    "all_lines=\" \".join(list(train_df[\"text_unique\"]))\n",
    "word_count=Counter(all_lines.split(\" \"))\n",
    "word_count=sorted(word_count.items(),key=lambda d:int(d[1]),reverse=True)\n",
    "\n",
    "\n",
    "\n",
    "counter_all=Counter()\n",
    "for i in range(num):\n",
    "    #print(len(train_df[i:i*chunk_size]))\n",
    "    #all_lines=\" \".join(list(train_df[i:i*chunk_size][\"text\"]))\n",
    "    all_lines=\" \".join(list(train_df[\"text_unique\"]))\n",
    "    counter=Counter(all_lines.split(\" \"))\n",
    "    counter_all+=counter\n",
    "#counter_all\n",
    "word_count=sorted(counter_all.items(),key=lambda d:int(d[1]),reverse=True)"
   ]
  },
  {
   "cell_type": "code",
   "execution_count": 75,
   "metadata": {},
   "outputs": [
    {
     "data": {
      "text/plain": [
       "[('3750', 198006),\n",
       " ('900', 197702),\n",
       " ('648', 191996),\n",
       " ('2465', 176976),\n",
       " ('6122', 176406),\n",
       " ('7399', 176172)]"
      ]
     },
     "execution_count": 75,
     "metadata": {},
     "output_type": "execute_result"
    }
   ],
   "source": [
    "word_count[0:6]"
   ]
  },
  {
   "cell_type": "code",
   "execution_count": null,
   "metadata": {},
   "outputs": [],
   "source": []
  },
  {
   "cell_type": "code",
   "execution_count": null,
   "metadata": {},
   "outputs": [],
   "source": []
  },
  {
   "cell_type": "code",
   "execution_count": null,
   "metadata": {},
   "outputs": [],
   "source": []
  }
 ],
 "metadata": {
  "kernelspec": {
   "display_name": "Python 3",
   "language": "python",
   "name": "python3"
  },
  "language_info": {
   "codemirror_mode": {
    "name": "ipython",
    "version": 3
   },
   "file_extension": ".py",
   "mimetype": "text/x-python",
   "name": "python",
   "nbconvert_exporter": "python",
   "pygments_lexer": "ipython3",
   "version": "3.6.4"
  }
 },
 "nbformat": 4,
 "nbformat_minor": 2
}
